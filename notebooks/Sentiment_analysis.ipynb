{
 "cells": [
  {
   "cell_type": "code",
   "execution_count": null,
   "metadata": {},
   "outputs": [],
   "source": [
    "from textblob import TextBlob\n",
    "import os\n",
    "import nltk\n",
    "from nltk.sentiment import SentimentIntensityAnalyzer\n",
    "from nltk.tokenize import sent_tokenize, word_tokenize\n",
    "from nltk.corpus import stopwords\n",
    "from nltk import download\n",
    "from nltk.corpus import cmudict\n",
    "import pandas as pd"
   ]
  },
  {
   "cell_type": "code",
   "execution_count": null,
   "metadata": {},
   "outputs": [],
   "source": [
    "# Download NLTK resources (if not already downloaded)\n",
    "download('punkt')\n",
    "download('stopwords')\n",
    "download('averaged_perceptron_tagger')\n",
    "download('words')\n",
    "download('cmudict')"
   ]
  },
  {
   "cell_type": "code",
   "execution_count": null,
   "metadata": {},
   "outputs": [],
   "source": [
    "# Load the CMU Pronouncing Dictionary\n",
    "pronouncing_dict = cmudict.dict()"
   ]
  },
  {
   "cell_type": "code",
   "execution_count": null,
   "metadata": {},
   "outputs": [],
   "source": [
    "# Initialize the Sentiment Intensity Analyzer\n",
    "sid = SentimentIntensityAnalyzer()"
   ]
  },
  {
   "cell_type": "code",
   "execution_count": null,
   "metadata": {},
   "outputs": [],
   "source": [
    "# Load your Excel file into a pandas DataFrame\n",
    "file_path = 'path/Output Data Structure.xlsx'\n",
    "df = pd.read_excel(file_path)"
   ]
  },
  {
   "cell_type": "code",
   "execution_count": null,
   "metadata": {},
   "outputs": [],
   "source": [
    "# Specify the batch size for processing\n",
    "batch_size = 100"
   ]
  },
  {
   "cell_type": "code",
   "execution_count": null,
   "metadata": {},
   "outputs": [],
   "source": [
    "# Function to calculate text-related scores\n",
    "def calculate_text_scores(text, stop_words):\n",
    "    blob = TextBlob(text)\n",
    "    \n",
    "    # Sentiment analysis scores using TextBlob's default implementation\n",
    "    sentiment_scores = sid.polarity_scores(text)\n",
    "    positive_score = sentiment_scores['pos']\n",
    "    negative_score = -positive_score\n",
    "    polarity_score = sentiment_scores['compound']\n",
    "    \n",
    "    subjectivity_score = blob.sentiment.subjectivity\n",
    "    \n",
    "    # Other text-related scores\n",
    "    sentences = sent_tokenize(text)\n",
    "    \n",
    "    avg_sentence_length = len(word_tokenize(text)) / len(sentences)\n",
    "    \n",
    "    complex_words = [word for word in word_tokenize(text) if word.lower() not in stop_words]\n",
    "    \n",
    "    percentage_of_complex_words = (len(complex_words) / len(word_tokenize(text))) * 100\n",
    "    fog_index = 0.4 * (avg_sentence_length + percentage_of_complex_words)\n",
    "    avg_words_per_sentence = len(word_tokenize(text)) / len(sentences)\n",
    "    complex_word_count = len(complex_words)\n",
    "    word_count = len(word_tokenize(text))\n",
    "    \n",
    "    def count_syllables(word, syllable_dict):\n",
    "        return max([len(list(y for y in x if y[-1].isdigit())) for x in syllable_dict.get(word.lower(), [[]])])\n",
    "\n",
    "    syllable_per_word = sum([count_syllables(w, pronouncing_dict) for w in word_tokenize(text)]) / word_count\n",
    "    \n",
    "    # Count personal pronouns\n",
    "    personal_pronouns = ['I', 'me', 'my', 'mine', 'we', 'us', 'our', 'ours']\n",
    "    personal_pronoun_count = sum(text.lower().count(pronoun) for pronoun in personal_pronouns)\n",
    "\n",
    "    # Calculate average word length\n",
    "    avg_word_length = sum(len(word) for word in word_tokenize(text)) / len(word_tokenize(text))\n",
    "    \n",
    "    return positive_score, negative_score, polarity_score, subjectivity_score, \\\n",
    "           avg_sentence_length, percentage_of_complex_words, fog_index, \\\n",
    "           avg_words_per_sentence, complex_word_count, word_count, \\\n",
    "           syllable_per_word, personal_pronoun_count, avg_word_length\n"
   ]
  },
  {
   "cell_type": "code",
   "execution_count": null,
   "metadata": {},
   "outputs": [],
   "source": [
    "\n",
    "# Function to batch process rows\n",
    "def batch_process_rows(df, start_index, end_index):\n",
    "    stop_words = set(stopwords.words('english'))\n",
    "    \n",
    "    for index in range(start_index, end_index):\n",
    "        id_value = df.at[index, 'URL_ID']\n",
    "        file_path =f'path/txt_files/{id_value}.txt'\n",
    "\n",
    "        if os.path.exists(file_path):\n",
    "            with open(file_path, 'r', encoding='utf-8') as file:\n",
    "                text_data = file.read()\n",
    "                text_scores = calculate_text_scores(text_data, stop_words)\n",
    "\n",
    "                # Update the DataFrame with the calculated scores\n",
    "                df.loc[index, ['POSITIVE SCORE', 'NEGATIVE SCORE', 'POLARITY SCORE', 'SUBJECTIVITY SCORE',\n",
    "                               'AVG SENTENCE LENGTH', 'PERCENTAGE OF COMPLEX WORDS', 'FOG INDEX',\n",
    "                               'AVG NUMBER OF WORDS PER SENTENCE', 'COMPLEX WORD COUNT', 'WORD COUNT',\n",
    "                               'SYLLABLE PER WORD', 'PERSONAL PRONOUNS', 'AVG WORD LENGTH']] = text_scores\n"
   ]
  },
  {
   "cell_type": "code",
   "execution_count": null,
   "metadata": {},
   "outputs": [],
   "source": [
    "# Iterate over the DataFrame rows in batches and fill the empty columns with text-related scores\n",
    "for i in range(0, len(df), batch_size):\n",
    "    batch_process_rows(df, i, min(i + batch_size, len(df)))"
   ]
  },
  {
   "cell_type": "code",
   "execution_count": null,
   "metadata": {},
   "outputs": [],
   "source": [
    "\n",
    "# Save the updated DataFrame back to the Excel file\n",
    "output_excel_path = 'path/output/Output Data Structure.xlsx'\n",
    "df.to_excel(output_excel_path, index=False)"
   ]
  }
 ],
 "metadata": {
  "kernelspec": {
   "display_name": "Python 3",
   "language": "python",
   "name": "python3"
  },
  "language_info": {
   "codemirror_mode": {
    "name": "ipython",
    "version": 3
   },
   "file_extension": ".py",
   "mimetype": "text/x-python",
   "name": "python",
   "nbconvert_exporter": "python",
   "pygments_lexer": "ipython3",
   "version": "3.12.0"
  }
 },
 "nbformat": 4,
 "nbformat_minor": 2
}
