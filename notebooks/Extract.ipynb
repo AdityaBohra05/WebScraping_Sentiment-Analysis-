{
 "cells": [
  {
   "cell_type": "code",
   "execution_count": null,
   "id": "11395c57-9b44-4353-81fd-9a4fb0e69273",
   "metadata": {},
   "outputs": [],
   "source": [
    "import os\n",
    "import pandas as pd\n",
    "import requests\n",
    "from bs4 import BeautifulSoup\n",
    "from nltk.sentiment import SentimentIntensityAnalyzer"
   ]
  },
  {
   "cell_type": "code",
   "execution_count": null,
   "id": "9d52195b-3b62-4eb7-880a-bb7d7e941f72",
   "metadata": {},
   "outputs": [],
   "source": [
    "# Download nltk data for sentiment analysis\n",
    "import nltk\n",
    "nltk.download('vader_lexicon')\n",
    "\n",
    "# Function to perform textual analysis and compute variables\n",
    "def analyze_text(url_id, article_text):\n",
    "    # Sentiment analysis\n",
    "    sid = SentimentIntensityAnalyzer()\n",
    "    sentiment_scores = sid.polarity_scores(article_text)\n",
    "    compound_score = sentiment_scores['compound']\n",
    "\n",
    "    # You can add more textual analysis tasks here as needed\n",
    "\n",
    "    return [url_id, compound_score]"
   ]
  },
  {
   "cell_type": "code",
   "execution_count": null,
   "id": "1de2187c-f88b-405f-961b-0ccba52df3c4",
   "metadata": {},
   "outputs": [],
   "source": [
    "# Function to scrape only the article title and text from a URL\n",
    "def scrape_url(url_id, url):\n",
    "    try:\n",
    "        response = requests.get(url)\n",
    "        if response.status_code == 200:\n",
    "            soup = BeautifulSoup(response.text, 'html.parser')\n",
    "\n",
    "            # Extracting article text\n",
    "            article_text = \"\"\n",
    "            article_content = soup.find('article') or soup.find('div') or soup.find('section')\n",
    "            if article_content:\n",
    "                paragraphs = article_content.find_all('p')\n",
    "                article_text = '\\n'.join([p.get_text() for p in paragraphs])\n",
    "\n",
    "               # Save the text file to the specified path\n",
    "                filename = os.path.join(save_path, f\"{url_id}.txt\")\n",
    "                with open(filename, 'w', encoding='utf-8') as file:\n",
    "                    file.write(article_text)\n",
    "                print(f\"Article text saved to {filename}\")\n",
    "\n",
    "            else:\n",
    "                print(f\"No article content found on {url}\")\n",
    "\n",
    "        else:\n",
    "            print(f\"Failed to retrieve data from {url}\")\n",
    "    except Exception as e:\n",
    "        print(f\"Error: {e}\")"
   ]
  },
  {
   "cell_type": "code",
   "execution_count": null,
   "id": "0cc0498e-4b87-4ee8-9872-7fe78bec7261",
   "metadata": {},
   "outputs": [],
   "source": [
    "# Read URLs from the Excel file using pandas\n",
    "def scrape_from_excel(excel_file):\n",
    "    try:\n",
    "        df = pd.read_excel(excel_file)  # Assumes that URLs are in the second column of the Excel file\n",
    "        for index, row in df.iterrows():\n",
    "            url_id = row['URL_ID']\n",
    "            url = row['URL']\n",
    "            scrape_url(url_id, url)\n",
    "\n",
    "    except Exception as e:\n",
    "        print(f\"Error reading Excel file: {e}\")"
   ]
  },
  {
   "cell_type": "code",
   "execution_count": null,
   "id": "62ffde0c-99c3-4ee9-89df-d286f0d2824c",
   "metadata": {},
   "outputs": [],
   "source": [
    "# Specify the path to your Excel file\n",
    "excel_file_path = 'path/Input.xlsx'\n",
    "save_path = 'path/txt_files'"
   ]
  },
  {
   "cell_type": "code",
   "execution_count": null,
   "id": "6fa9e88d-4ef1-4f71-80d0-18e6c46f6cf3",
   "metadata": {},
   "outputs": [],
   "source": [
    "# Call the function to scrape URLs from the Excel file\n",
    "scrape_from_excel(excel_file_path)"
   ]
  }
 ],
 "metadata": {
  "kernelspec": {
   "display_name": "Python 3 (ipykernel)",
   "language": "python",
   "name": "python3"
  },
  "language_info": {
   "codemirror_mode": {
    "name": "ipython",
    "version": 3
   },
   "file_extension": ".py",
   "mimetype": "text/x-python",
   "name": "python",
   "nbconvert_exporter": "python",
   "pygments_lexer": "ipython3",
   "version": "3.12.0"
  }
 },
 "nbformat": 4,
 "nbformat_minor": 5
}
